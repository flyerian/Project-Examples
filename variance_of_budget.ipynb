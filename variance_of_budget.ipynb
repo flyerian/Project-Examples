{
 "cells": [
  {
   "cell_type": "markdown",
   "id": "d3e7abd8-baf7-43c0-9a2a-e83627f3673d",
   "metadata": {},
   "source": [
    "# **Disclaimer:**  \r\n",
    "> The dataset presented in this project has been **simulated** to protect proprietary or confidential company information.  \r\n",
    "> While the data values do not correspond to real project information, the structure, methodology, and analytical approach are consistent with the original real-world project.  \r\n",
    "> The insights and findings reflect the actual outcomes of the real project, with only the underlying data replaced.  \r\n",
    ".  \r\n",
    "  \r\n"
   ]
  },
  {
   "cell_type": "markdown",
   "id": "d0e1048a-5af4-4e85-bae3-6affaa522c80",
   "metadata": {},
   "source": [
    "### Purpose & Process\n",
    "The goal of this analysis is to quantify the potential downside risk in project budget variance (measured as Value at Risk at different confidence levels) to support financial forecasting, cost control, and risk management decisions.\n",
    "\n",
    "#### Process followed:\n",
    "\n",
    "Data Collection & Preparation: Imported historical change orders, project characteristics including budgets, and the administrative communications of the projects.\n",
    "\n",
    "Exploratory Analysis: Visualized response variable inclduing breakdown by funding type plotted against change order count and the numbder of administative forms, and reviewed statistical characterics of quanitative variables.\n",
    "\n",
    "Modeling Approach: Applied OLS to review linear models statistics and applied Linear Regression for a monte carlo simulation with the Value at Risk 95 and 99 percentiles savded in a dataframe for analysis.\n",
    "\n",
    "Evaluation & Interpretation: Assessed model fit, variable performance and applied three visual approches (boxplot, scatter plot, and line plot) to check general perfomance and review areas of primary concern.\n",
    "\n",
    "Findings & Recommendations: Summarized key insights and proposed next steps for risk management and further model improvement."
   ]
  },
  {
   "cell_type": "code",
   "execution_count": 3,
   "id": "97b55aa0-8e0e-4a33-b24a-0aa99de142a0",
   "metadata": {},
   "outputs": [],
   "source": [
    "# Import necessary libraries\n",
    "import pandas as pd\n",
    "import numpy as np\n",
    "import matplotlib.pyplot as plt\n",
    "from statsmodels.formula.api import ols\n",
    "from statsmodels.formula.api import rlm\n",
    "import statsmodels.api as sm\n",
    "import statsmodels.formula.api as smf\n",
    "import seaborn as sns"
   ]
  },
  {
   "cell_type": "code",
   "execution_count": 4,
   "id": "34e565e6-9531-4168-bec4-1d689c82c5ba",
   "metadata": {},
   "outputs": [],
   "source": [
    "# Import preprocessing, modeling, evaluation, and tuning tools from scikit-learn\n",
    "from sklearn.preprocessing import OneHotEncoder, StandardScaler, MultiLabelBinarizer \n",
    "from sklearn.model_selection import train_test_split\n",
    "from sklearn.metrics import root_mean_squared_error\n",
    "from sklearn.linear_model import LinearRegression\n",
    "from sklearn.model_selection import KFold, cross_val_score, GridSearchCV\n",
    "from sklearn.pipeline import Pipeline"
   ]
  },
  {
   "cell_type": "code",
   "execution_count": 5,
   "id": "92359055-78cb-4c8a-b42c-e0bee9c3094f",
   "metadata": {},
   "outputs": [],
   "source": [
    "# Load datasets from CSV files\n",
    "ai = pd.read_csv(\"action items.csv\")\n",
    "co = pd.read_csv(\"change orders.csv\")\n",
    "bu = pd.read_csv(\"budgets.csv\")"
   ]
  },
  {
   "cell_type": "code",
   "execution_count": 6,
   "id": "e75c8976-877f-44e5-bc86-4ef4040b3054",
   "metadata": {},
   "outputs": [
    {
     "name": "stdout",
     "output_type": "stream",
     "text": [
      "<class 'pandas.core.frame.DataFrame'>\n",
      "RangeIndex: 2611 entries, 0 to 2610\n",
      "Data columns (total 15 columns):\n",
      " #   Column                         Non-Null Count  Dtype \n",
      "---  ------                         --------------  ----- \n",
      " 0   ProjectName                    2611 non-null   object\n",
      " 1   FormCounter                    2611 non-null   int64 \n",
      " 2   Subject                        2611 non-null   object\n",
      " 3   FormStatus                     2611 non-null   object\n",
      " 4   Priority                       2611 non-null   object\n",
      " 5   Author                         2611 non-null   object\n",
      " 6   Author Company                 2611 non-null   object\n",
      " 7   Held By                        2611 non-null   object\n",
      " 8   Held By Company                2611 non-null   object\n",
      " 9   Date Created                   2611 non-null   object\n",
      " 10  Date Due                       2611 non-null   object\n",
      " 11  Date Closed                    2611 non-null   object\n",
      " 12  actionitemsCompletionVariance  2582 non-null   object\n",
      " 13  Action Requested               2611 non-null   object\n",
      " 14  Action Response                753 non-null    object\n",
      "dtypes: int64(1), object(14)\n",
      "memory usage: 306.1+ KB\n"
     ]
    }
   ],
   "source": [
    "# Reviewed structure of the dataframe ai, noting missing values in two columns\n",
    "ai.info()"
   ]
  },
  {
   "cell_type": "code",
   "execution_count": 7,
   "id": "4526644d-53ed-4052-bcbf-ffc8b645d1d6",
   "metadata": {},
   "outputs": [],
   "source": [
    "# Cleaned data format for ProjectName and Formstatus to work with pandas, and finally grouping project level data together for merging at the project level\n",
    "ai[\"ProjectName\"] = ai[\"ProjectName\"].str.strip()\n",
    "\n",
    "ai[[\"num\",\"direction\"]] = ai[\"FormStatus\"].str.extract(r'([\\d.]+)d\\s*(early|late)')\n",
    "ai[\"num\"] = ai[\"num\"].astype(\"float\")\n",
    "ai[\"act_var\"] = ai.apply(lambda row: -row[\"num\"] if row[\"direction\"] == 'late' else row[\"num\"], axis=1)\n",
    "\n",
    "#take cplumns and make it for each project\n",
    "aimerge = ai.groupby(\"ProjectName\").agg({\n",
    "    \"FormCounter\" : \"count\",\n",
    "    \"act_var\" : \"median\"\n",
    "}).reset_index()"
   ]
  },
  {
   "cell_type": "code",
   "execution_count": 8,
   "id": "57cf6703-57e9-48e8-8ab5-11b5c633df0b",
   "metadata": {},
   "outputs": [
    {
     "name": "stdout",
     "output_type": "stream",
     "text": [
      "<class 'pandas.core.frame.DataFrame'>\n",
      "RangeIndex: 49 entries, 0 to 48\n",
      "Data columns (total 3 columns):\n",
      " #   Column       Non-Null Count  Dtype  \n",
      "---  ------       --------------  -----  \n",
      " 0   ProjectName  49 non-null     object \n",
      " 1   FormCounter  49 non-null     int64  \n",
      " 2   act_var      49 non-null     float64\n",
      "dtypes: float64(1), int64(1), object(1)\n",
      "memory usage: 1.3+ KB\n"
     ]
    }
   ],
   "source": [
    "# Confirmed information is at project level with no missing values\n",
    "aimerge.info()"
   ]
  },
  {
   "cell_type": "code",
   "execution_count": 9,
   "id": "00f09173-e66f-447c-81d2-398ae04a27d6",
   "metadata": {},
   "outputs": [
    {
     "name": "stdout",
     "output_type": "stream",
     "text": [
      "<class 'pandas.core.frame.DataFrame'>\n",
      "RangeIndex: 286 entries, 0 to 285\n",
      "Data columns (total 7 columns):\n",
      " #   Column        Non-Null Count  Dtype \n",
      "---  ------        --------------  ----- \n",
      " 0   ProjectName   286 non-null    object\n",
      " 1   Status        286 non-null    object\n",
      " 2   CompanyName   286 non-null    object\n",
      " 3   Amount        286 non-null    object\n",
      " 4   ReasonCode    286 non-null    object\n",
      " 5   Project Name  286 non-null    object\n",
      " 6   FundingType   286 non-null    object\n",
      "dtypes: object(7)\n",
      "memory usage: 15.8+ KB\n"
     ]
    }
   ],
   "source": [
    "# Reviewed structure of the dataframe co, noting no missing values\n",
    "co.info()"
   ]
  },
  {
   "cell_type": "code",
   "execution_count": 10,
   "id": "a900ad8f-5be6-48cf-88be-90e9db8fc9e3",
   "metadata": {},
   "outputs": [],
   "source": [
    "# Cleaned whitespace and standardize column names, grouped the information used in merging to the project level, and renamed column names for better reference later in modeling\n",
    "co['ProjectName'] = co['ProjectName'].str.strip()\n",
    "co['CompanyName'] = co['CompanyName'].str.strip()\n",
    "co['FundingType'] = co['FundingType'].str.strip()\n",
    "\n",
    "ps = co.groupby('ProjectName').agg({\n",
    "    'CompanyName': lambda x: ', '.join(sorted(set(x))),  # unique contractor(s)\n",
    "    'FundingType': 'first',                             # assume one funding type per project\n",
    "    'Status': 'count'                                   # count of change orders\n",
    "}).reset_index()\n",
    "\n",
    "ps.rename(columns={\n",
    "    'CompanyName': 'Contractor',\n",
    "    'Status': 'ChangeOrderCount'\n",
    "}, inplace=True)"
   ]
  },
  {
   "cell_type": "code",
   "execution_count": 11,
   "id": "6c8be8c0-3320-44ff-917d-14b045ebcb1f",
   "metadata": {},
   "outputs": [
    {
     "name": "stdout",
     "output_type": "stream",
     "text": [
      "<class 'pandas.core.frame.DataFrame'>\n",
      "RangeIndex: 57 entries, 0 to 56\n",
      "Data columns (total 4 columns):\n",
      " #   Column            Non-Null Count  Dtype \n",
      "---  ------            --------------  ----- \n",
      " 0   ProjectName       57 non-null     object\n",
      " 1   Contractor        57 non-null     object\n",
      " 2   FundingType       57 non-null     object\n",
      " 3   ChangeOrderCount  57 non-null     int64 \n",
      "dtypes: int64(1), object(3)\n",
      "memory usage: 1.9+ KB\n"
     ]
    }
   ],
   "source": [
    "# Reviewed structure of the dataframe ps, noting no missing values\n",
    "ps.info()"
   ]
  },
  {
   "cell_type": "code",
   "execution_count": 12,
   "id": "6a3dcd15-3465-4da2-a3fe-f0ea45b980fd",
   "metadata": {},
   "outputs": [
    {
     "name": "stdout",
     "output_type": "stream",
     "text": [
      "<class 'pandas.core.frame.DataFrame'>\n",
      "RangeIndex: 107 entries, 0 to 106\n",
      "Data columns (total 5 columns):\n",
      " #   Column              Non-Null Count  Dtype \n",
      "---  ------              --------------  ----- \n",
      " 0   ProjectName         107 non-null    object\n",
      " 1   CurrentBudget       107 non-null    object\n",
      " 2   CurrentCommitments  107 non-null    object\n",
      " 3   ProjectName.1       107 non-null    object\n",
      " 4   OriginalBudget      107 non-null    object\n",
      "dtypes: object(5)\n",
      "memory usage: 4.3+ KB\n"
     ]
    }
   ],
   "source": [
    "# Reviewed structure of the dataframe bu, noting no missing values\n",
    "bu.info()"
   ]
  },
  {
   "cell_type": "code",
   "execution_count": 13,
   "id": "c0ab75b0-fed4-4bc5-a80d-db99e3275a0c",
   "metadata": {},
   "outputs": [],
   "source": [
    "# Copied bu to new dataframe to isolate variables used in merging and eventually modeling\n",
    "bucon = bu[[\"ProjectName\",\"CurrentCommitments\", \"OriginalBudget\"]].copy()"
   ]
  },
  {
   "cell_type": "code",
   "execution_count": 14,
   "id": "66beb293-739b-4473-8d0d-40dd8c7ccf5e",
   "metadata": {},
   "outputs": [],
   "source": [
    "# Cleaned up the data in CurrentCommitments and OriginalBudget to work correctly in the modeling process\n",
    "bucon[\"CurrentCommitments\"] = (bucon[\"CurrentCommitments\"].astype(str).str.replace(\",\", \"\", regex=True).astype(float))\n",
    "\n",
    "bucon[\"OriginalBudget\"] = (bucon[\"OriginalBudget\"].astype(str).str.replace(\",\", \"\", regex=True).astype(float))"
   ]
  },
  {
   "cell_type": "code",
   "execution_count": 15,
   "id": "b3100c2c-4902-4abd-898b-1b7ade815ca8",
   "metadata": {},
   "outputs": [
    {
     "data": {
      "text/plain": [
       "CurrentCommitments\n",
       "0.00          37\n",
       "1026176.36     1\n",
       "1648334.91     1\n",
       "805106.96      1\n",
       "1434819.68     1\n",
       "              ..\n",
       "496102.14      1\n",
       "2060007.38     1\n",
       "355299.06      1\n",
       "1877409.84     1\n",
       "2220151.22     1\n",
       "Name: count, Length: 71, dtype: int64"
      ]
     },
     "execution_count": 15,
     "metadata": {},
     "output_type": "execute_result"
    }
   ],
   "source": [
    "# Reviewing values in CurrentCommitments, identifying there are projects listed but not completed as they have no CurrentCommitment (zero value)\n",
    "bucon[\"CurrentCommitments\"].value_counts(ascending=False)"
   ]
  },
  {
   "cell_type": "code",
   "execution_count": 16,
   "id": "e549dc6b-777c-4c51-b9ba-8966d7062843",
   "metadata": {},
   "outputs": [
    {
     "name": "stdout",
     "output_type": "stream",
     "text": [
      "<class 'pandas.core.frame.DataFrame'>\n",
      "RangeIndex: 107 entries, 0 to 106\n",
      "Data columns (total 3 columns):\n",
      " #   Column              Non-Null Count  Dtype  \n",
      "---  ------              --------------  -----  \n",
      " 0   ProjectName         107 non-null    object \n",
      " 1   CurrentCommitments  107 non-null    float64\n",
      " 2   OriginalBudget      107 non-null    float64\n",
      "dtypes: float64(2), object(1)\n",
      "memory usage: 2.6+ KB\n"
     ]
    }
   ],
   "source": [
    "# Confirmed no missing values and all modeled information has the right data type\n",
    "bucon.info()"
   ]
  },
  {
   "cell_type": "code",
   "execution_count": 17,
   "id": "092505b7-69e2-47fa-8ecd-4f5baaa15b99",
   "metadata": {},
   "outputs": [],
   "source": [
    "# Created clean data frame where projects with no currentcommitment was removed, as they were projects initatied but not completed/canceled\n",
    "# Grouped information to the project level in preperation for merging\n",
    "buclean = bucon[bucon[\"CurrentCommitments\"] != 0].reset_index(drop=True)\n",
    "\n",
    "bumerge = buclean.groupby(\"ProjectName\").agg({\n",
    "    \"OriginalBudget\" : \"first\",\n",
    "    \"CurrentCommitments\" :\"sum\"\n",
    "}).reset_index()"
   ]
  },
  {
   "cell_type": "code",
   "execution_count": 18,
   "id": "fa236034-7b63-4174-af59-9b65eedf126d",
   "metadata": {},
   "outputs": [
    {
     "name": "stdout",
     "output_type": "stream",
     "text": [
      "<class 'pandas.core.frame.DataFrame'>\n",
      "RangeIndex: 70 entries, 0 to 69\n",
      "Data columns (total 3 columns):\n",
      " #   Column              Non-Null Count  Dtype  \n",
      "---  ------              --------------  -----  \n",
      " 0   ProjectName         70 non-null     object \n",
      " 1   OriginalBudget      70 non-null     float64\n",
      " 2   CurrentCommitments  70 non-null     float64\n",
      "dtypes: float64(2), object(1)\n",
      "memory usage: 1.8+ KB\n"
     ]
    }
   ],
   "source": [
    "# Confirmed 16 rows were removed with no missing values\n",
    "bumerge.info()"
   ]
  },
  {
   "cell_type": "code",
   "execution_count": 19,
   "id": "29ed821b-6864-48d9-a4f4-0f2edaf8d391",
   "metadata": {},
   "outputs": [],
   "source": [
    "# Merged the dataframes for modeling\n",
    "merge = pd.merge(bumerge, ps, on = \"ProjectName\", how = \"left\")\n",
    "merged = pd.merge(merge,aimerge, on=\"ProjectName\", how = \"left\")"
   ]
  },
  {
   "cell_type": "code",
   "execution_count": 20,
   "id": "efc937ba-f0b9-4766-880e-f8d91a9527a8",
   "metadata": {},
   "outputs": [
    {
     "name": "stdout",
     "output_type": "stream",
     "text": [
      "<class 'pandas.core.frame.DataFrame'>\n",
      "RangeIndex: 70 entries, 0 to 69\n",
      "Data columns (total 8 columns):\n",
      " #   Column              Non-Null Count  Dtype  \n",
      "---  ------              --------------  -----  \n",
      " 0   ProjectName         70 non-null     object \n",
      " 1   OriginalBudget      70 non-null     float64\n",
      " 2   CurrentCommitments  70 non-null     float64\n",
      " 3   Contractor          38 non-null     object \n",
      " 4   FundingType         38 non-null     object \n",
      " 5   ChangeOrderCount    38 non-null     float64\n",
      " 6   FormCounter         29 non-null     float64\n",
      " 7   act_var             29 non-null     float64\n",
      "dtypes: float64(5), object(3)\n",
      "memory usage: 4.5+ KB\n"
     ]
    }
   ],
   "source": [
    "merged.info()"
   ]
  },
  {
   "cell_type": "code",
   "execution_count": 21,
   "id": "e65b6894-a251-42be-bb1d-a4a9a2b408bf",
   "metadata": {},
   "outputs": [],
   "source": [
    "# Filled any missing values with zero (as they did not have an applicable cost), or noted information as unknown\n",
    "merged.loc[:,\"FormCounter\"] = merged[\"FormCounter\"].fillna(0)\n",
    "merged.loc[:,\"act_var\"] = merged[\"act_var\"].fillna(0)\n",
    "merged.loc[:,\"ChangeOrderCount\"] = merged[\"ChangeOrderCount\"].fillna(0)\n",
    "merged.loc[:,\"Contractor\"] = merged[\"Contractor\"].fillna(\"unkown\").astype(\"str\")\n",
    "merged.loc[:,\"FundingType\"] = merged[\"FundingType\"].fillna(\"unkown\").astype(\"str\")"
   ]
  },
  {
   "cell_type": "code",
   "execution_count": 22,
   "id": "eefbf7ee-7f50-43ef-9378-4d8086aebf84",
   "metadata": {},
   "outputs": [],
   "source": [
    "# Created a BudgetVariance column to identify variance from the initial project budget\n",
    "merged[\"Budget_Variance\"] = merged[\"CurrentCommitments\"].astype(\"float\") - merged[\"OriginalBudget\"].astype(\"float\")\n",
    "merged = merged.drop([\"CurrentCommitments\",\"ProjectName\"], axis=1)"
   ]
  },
  {
   "cell_type": "code",
   "execution_count": 23,
   "id": "cc3f29d8-6711-4cdc-9f64-d5783cf54d2b",
   "metadata": {},
   "outputs": [],
   "source": [
    "# Ensured the 2 variable columns with object data type where catageorized\n",
    "merged[\"Contractor\"] = merged[\"Contractor\"].astype(\"category\")\n",
    "merged[\"FundingType\"] = merged[\"FundingType\"].astype(\"category\")"
   ]
  },
  {
   "cell_type": "code",
   "execution_count": 24,
   "id": "a0a05e52-03af-4091-a2d3-7ffcc51b544b",
   "metadata": {},
   "outputs": [
    {
     "data": {
      "text/plain": [
       "<seaborn.axisgrid.FacetGrid at 0x1b32dad0cb0>"
      ]
     },
     "execution_count": 24,
     "metadata": {},
     "output_type": "execute_result"
    },
    {
     "data": {
      "image/png": "[encoded data removed]",
      "text/plain": [
       "<Figure size 787.25x500 with 1 Axes>"
      ]
     },
     "metadata": {},
     "output_type": "display_data"
    }
   ],
   "source": [
    "# VIsualized the relation between CHangeOrderCount and Budget_Variance, noting no clear pattern as there is significant grouping, and MLF projects had significant spread\n",
    "sns.relplot(data=merged, x=\"ChangeOrderCount\", y = \"Budget_Variance\", hue = \"FundingType\")"
   ]
  },
  {
   "cell_type": "code",
   "execution_count": 25,
   "id": "f530ebef-e399-4118-9bd5-b59192858dd8",
   "metadata": {},
   "outputs": [
    {
     "data": {
      "text/plain": [
       "<Axes: xlabel='Budget_Variance'>"
      ]
     },
     "execution_count": 25,
     "metadata": {},
     "output_type": "execute_result"
    },
    {
     "data": {
      "image/png": "[encoded data removed]",
      "text/plain": [
       "<Figure size 640x480 with 1 Axes>"
      ]
     },
     "metadata": {},
     "output_type": "display_data"
    }
   ],
   "source": [
    "# Used a boxplot to note the Budget_Variation has many outlars, which is expected as the sample size was very small and covered a significant range of project types and sizes was included\n",
    "sns.boxplot(data = merged, x=\"Budget_Variance\")"
   ]
  },
  {
   "cell_type": "code",
   "execution_count": 26,
   "id": "a0bf9bfe-9bb2-451f-9cc6-78b4ee4a0c4b",
   "metadata": {},
   "outputs": [
    {
     "name": "stdout",
     "output_type": "stream",
     "text": [
      "<class 'pandas.core.frame.DataFrame'>\n",
      "RangeIndex: 70 entries, 0 to 69\n",
      "Data columns (total 7 columns):\n",
      " #   Column            Non-Null Count  Dtype   \n",
      "---  ------            --------------  -----   \n",
      " 0   OriginalBudget    70 non-null     float64 \n",
      " 1   Contractor        70 non-null     category\n",
      " 2   FundingType       70 non-null     category\n",
      " 3   ChangeOrderCount  70 non-null     float64 \n",
      " 4   FormCounter       70 non-null     float64 \n",
      " 5   act_var           70 non-null     float64 \n",
      " 6   Budget_Variance   70 non-null     float64 \n",
      "dtypes: category(2), float64(5)\n",
      "memory usage: 3.9 KB\n"
     ]
    }
   ],
   "source": [
    "# Confirmed all modeling variables have no missing values and are typed correctly\n",
    "merged.info()"
   ]
  },
  {
   "cell_type": "code",
   "execution_count": 27,
   "id": "05f13a32-3a20-4afb-8e96-5dbd4b0a87e1",
   "metadata": {},
   "outputs": [
    {
     "data": {
      "text/html": [
       "<div>\n",
       "<style scoped>\n",
       "    .dataframe tbody tr th:only-of-type {\n",
       "        vertical-align: middle;\n",
       "    }\n",
       "\n",
       "    .dataframe tbody tr th {\n",
       "        vertical-align: top;\n",
       "    }\n",
       "\n",
       "    .dataframe thead th {\n",
       "        text-align: right;\n",
       "    }\n",
       "</style>\n",
       "<table border=\"1\" class=\"dataframe\">\n",
       "  <thead>\n",
       "    <tr style=\"text-align: right;\">\n",
       "      <th></th>\n",
       "      <th>OriginalBudget</th>\n",
       "      <th>ChangeOrderCount</th>\n",
       "      <th>FormCounter</th>\n",
       "      <th>act_var</th>\n",
       "      <th>Budget_Variance</th>\n",
       "    </tr>\n",
       "  </thead>\n",
       "  <tbody>\n",
       "    <tr>\n",
       "      <th>count</th>\n",
       "      <td>7.000000e+01</td>\n",
       "      <td>70.000000</td>\n",
       "      <td>70.000000</td>\n",
       "      <td>70.000000</td>\n",
       "      <td>7.000000e+01</td>\n",
       "    </tr>\n",
       "    <tr>\n",
       "      <th>mean</th>\n",
       "      <td>5.884170e+05</td>\n",
       "      <td>2.528571</td>\n",
       "      <td>3.328571</td>\n",
       "      <td>-2.275000</td>\n",
       "      <td>2.324138e+05</td>\n",
       "    </tr>\n",
       "    <tr>\n",
       "      <th>std</th>\n",
       "      <td>6.937953e+05</td>\n",
       "      <td>6.399097</td>\n",
       "      <td>8.581614</td>\n",
       "      <td>7.917399</td>\n",
       "      <td>9.183601e+05</td>\n",
       "    </tr>\n",
       "    <tr>\n",
       "      <th>min</th>\n",
       "      <td>0.000000e+00</td>\n",
       "      <td>0.000000</td>\n",
       "      <td>0.000000</td>\n",
       "      <td>-44.000000</td>\n",
       "      <td>-1.834455e+06</td>\n",
       "    </tr>\n",
       "    <tr>\n",
       "      <th>25%</th>\n",
       "      <td>0.000000e+00</td>\n",
       "      <td>0.000000</td>\n",
       "      <td>0.000000</td>\n",
       "      <td>-1.000000</td>\n",
       "      <td>-3.037123e+05</td>\n",
       "    </tr>\n",
       "    <tr>\n",
       "      <th>50%</th>\n",
       "      <td>3.217164e+05</td>\n",
       "      <td>1.000000</td>\n",
       "      <td>0.000000</td>\n",
       "      <td>0.000000</td>\n",
       "      <td>1.982850e+05</td>\n",
       "    </tr>\n",
       "    <tr>\n",
       "      <th>75%</th>\n",
       "      <td>9.315544e+05</td>\n",
       "      <td>2.000000</td>\n",
       "      <td>3.000000</td>\n",
       "      <td>0.000000</td>\n",
       "      <td>9.245867e+05</td>\n",
       "    </tr>\n",
       "    <tr>\n",
       "      <th>max</th>\n",
       "      <td>2.537909e+06</td>\n",
       "      <td>48.000000</td>\n",
       "      <td>55.000000</td>\n",
       "      <td>6.500000</td>\n",
       "      <td>2.127623e+06</td>\n",
       "    </tr>\n",
       "  </tbody>\n",
       "</table>\n",
       "</div>"
      ],
      "text/plain": [
       "       OriginalBudget  ChangeOrderCount  FormCounter    act_var  \\\n",
       "count    7.000000e+01         70.000000    70.000000  70.000000   \n",
       "mean     5.884170e+05          2.528571     3.328571  -2.275000   \n",
       "std      6.937953e+05          6.399097     8.581614   7.917399   \n",
       "min      0.000000e+00          0.000000     0.000000 -44.000000   \n",
       "25%      0.000000e+00          0.000000     0.000000  -1.000000   \n",
       "50%      3.217164e+05          1.000000     0.000000   0.000000   \n",
       "75%      9.315544e+05          2.000000     3.000000   0.000000   \n",
       "max      2.537909e+06         48.000000    55.000000   6.500000   \n",
       "\n",
       "       Budget_Variance  \n",
       "count     7.000000e+01  \n",
       "mean      2.324138e+05  \n",
       "std       9.183601e+05  \n",
       "min      -1.834455e+06  \n",
       "25%      -3.037123e+05  \n",
       "50%       1.982850e+05  \n",
       "75%       9.245867e+05  \n",
       "max       2.127623e+06  "
      ]
     },
     "execution_count": 27,
     "metadata": {},
     "output_type": "execute_result"
    }
   ],
   "source": [
    "# Reviewed the quantiative qualities of quantiative variables, confirming the outliars as some quantiles showed significiant jumps in value while others showed minimal to no change\n",
    "merged.describe()"
   ]
  },
  {
   "cell_type": "code",
   "execution_count": 28,
   "id": "7458fbc4-c71f-42e8-a7f1-4b4b2fdf4758",
   "metadata": {},
   "outputs": [
    {
     "data": {
      "text/html": [
       "<div>\n",
       "<style scoped>\n",
       "    .dataframe tbody tr th:only-of-type {\n",
       "        vertical-align: middle;\n",
       "    }\n",
       "\n",
       "    .dataframe tbody tr th {\n",
       "        vertical-align: top;\n",
       "    }\n",
       "\n",
       "    .dataframe thead th {\n",
       "        text-align: right;\n",
       "    }\n",
       "</style>\n",
       "<table border=\"1\" class=\"dataframe\">\n",
       "  <thead>\n",
       "    <tr style=\"text-align: right;\">\n",
       "      <th></th>\n",
       "      <th>OriginalBudget</th>\n",
       "      <th>ChangeOrderCount</th>\n",
       "      <th>FormCounter</th>\n",
       "      <th>act_var</th>\n",
       "      <th>Budget_Variance</th>\n",
       "    </tr>\n",
       "  </thead>\n",
       "  <tbody>\n",
       "    <tr>\n",
       "      <th>OriginalBudget</th>\n",
       "      <td>1.000000</td>\n",
       "      <td>0.006245</td>\n",
       "      <td>0.065373</td>\n",
       "      <td>0.032820</td>\n",
       "      <td>-0.747548</td>\n",
       "    </tr>\n",
       "    <tr>\n",
       "      <th>ChangeOrderCount</th>\n",
       "      <td>0.006245</td>\n",
       "      <td>1.000000</td>\n",
       "      <td>0.831289</td>\n",
       "      <td>-0.045719</td>\n",
       "      <td>-0.053380</td>\n",
       "    </tr>\n",
       "    <tr>\n",
       "      <th>FormCounter</th>\n",
       "      <td>0.065373</td>\n",
       "      <td>0.831289</td>\n",
       "      <td>1.000000</td>\n",
       "      <td>-0.096888</td>\n",
       "      <td>-0.127148</td>\n",
       "    </tr>\n",
       "    <tr>\n",
       "      <th>act_var</th>\n",
       "      <td>0.032820</td>\n",
       "      <td>-0.045719</td>\n",
       "      <td>-0.096888</td>\n",
       "      <td>1.000000</td>\n",
       "      <td>-0.066195</td>\n",
       "    </tr>\n",
       "    <tr>\n",
       "      <th>Budget_Variance</th>\n",
       "      <td>-0.747548</td>\n",
       "      <td>-0.053380</td>\n",
       "      <td>-0.127148</td>\n",
       "      <td>-0.066195</td>\n",
       "      <td>1.000000</td>\n",
       "    </tr>\n",
       "  </tbody>\n",
       "</table>\n",
       "</div>"
      ],
      "text/plain": [
       "                  OriginalBudget  ChangeOrderCount  FormCounter   act_var  \\\n",
       "OriginalBudget          1.000000          0.006245     0.065373  0.032820   \n",
       "ChangeOrderCount        0.006245          1.000000     0.831289 -0.045719   \n",
       "FormCounter             0.065373          0.831289     1.000000 -0.096888   \n",
       "act_var                 0.032820         -0.045719    -0.096888  1.000000   \n",
       "Budget_Variance        -0.747548         -0.053380    -0.127148 -0.066195   \n",
       "\n",
       "                  Budget_Variance  \n",
       "OriginalBudget          -0.747548  \n",
       "ChangeOrderCount        -0.053380  \n",
       "FormCounter             -0.127148  \n",
       "act_var                 -0.066195  \n",
       "Budget_Variance          1.000000  "
      ]
     },
     "execution_count": 28,
     "metadata": {},
     "output_type": "execute_result"
    }
   ],
   "source": [
    "# Reviewed correlation, identifying originalbudget and ChangeOrderCount has strong poositive corrrelation along with FormCounter to a moderately positive degree\n",
    "merged.corr(numeric_only=True)"
   ]
  },
  {
   "cell_type": "code",
   "execution_count": 29,
   "id": "cd8ceeff-a118-4fca-b5fc-1c8222ddcb5b",
   "metadata": {},
   "outputs": [
    {
     "data": {
      "image/png": "[encoded data removed]",
      "text/plain": [
       "<Figure size 500x500 with 1 Axes>"
      ]
     },
     "metadata": {},
     "output_type": "display_data"
    }
   ],
   "source": [
    "# Visually identifyed no clear pattern between the variance and FormCounter, with areas of strong grouping and outlairs present\n",
    "sns.relplot(data = merged, x=\"FormCounter\", y=\"Budget_Variance\")\n",
    "plt.show()"
   ]
  },
  {
   "cell_type": "code",
   "execution_count": 30,
   "id": "a651705a-0453-48a0-ae1f-6577f6beff26",
   "metadata": {},
   "outputs": [],
   "source": [
    "# Using MultiLabelBinarizer to catagorize Contractor as multiple contractors can be present on one project \n",
    "merged[\"Contractor\"] = merged[\"Contractor\"].str.split(r\",\\s*\")\n",
    "\n",
    "mlb = MultiLabelBinarizer()\n",
    "contractor_encoded = pd.DataFrame(\n",
    "    mlb.fit_transform(merged[\"Contractor\"]),\n",
    "    columns=mlb.classes_,\n",
    "    index=merged.index\n",
    ")\n",
    "\n",
    "merged = pd.concat([merged.drop(columns=[\"Contractor\"]), contractor_encoded], axis=1)"
   ]
  },
  {
   "cell_type": "code",
   "execution_count": 31,
   "id": "12c5b3ee-c0bd-47d8-a5ac-8cf7ccc0cf7e",
   "metadata": {},
   "outputs": [],
   "source": [
    "# Code Block 34: Merge two dataframes\n",
    "# Initialize the OneHotEncoder\n",
    "ohe = OneHotEncoder(sparse_output=False, handle_unknown=\"ignore\", drop = 'first')\n",
    "\n",
    "# OneHotEncoding FundingType\n",
    "contractor_encoded = pd.DataFrame(\n",
    "    ohe.fit_transform(merged[[\"FundingType\"]]),  # must be 2D\n",
    "    columns=ohe.get_feature_names_out([\"FundingType\"]),\n",
    "    index=merged.index\n",
    ")\n",
    "\n",
    "# Merge back into the original DataFrame\n",
    "merged = pd.concat([merged.drop(columns=[\"FundingType\"]), contractor_encoded], axis=1)"
   ]
  },
  {
   "cell_type": "code",
   "execution_count": 32,
   "id": "aca6f198-d0f9-431f-aa71-b02a5d263e37",
   "metadata": {},
   "outputs": [],
   "source": [
    "# Setting the Independant variables and the response variable\n",
    "y = merged[\"Budget_Variance\"]\n",
    "X = merged.drop(\"Budget_Variance\", axis=1)"
   ]
  },
  {
   "cell_type": "code",
   "execution_count": 33,
   "id": "c35cf26a-f17d-4fc1-a16a-1887e32b19be",
   "metadata": {},
   "outputs": [],
   "source": [
    "# Splitting data into training and test sets\n",
    "X_train, X_test, y_train, y_test = train_test_split(X, y, test_size=0.3,  random_state= 42)"
   ]
  },
  {
   "cell_type": "code",
   "execution_count": 34,
   "id": "ab1ddc98-c6b2-431f-b4c3-0cb4b8d5617a",
   "metadata": {},
   "outputs": [],
   "source": [
    "# Adding a constant to the OLS model to match further LinearRegression used in modeling\n",
    "X_train_const = sm.add_constant(X_train)\n",
    "X_test_const = sm.add_constant(X_test)"
   ]
  },
  {
   "cell_type": "code",
   "execution_count": 35,
   "id": "93b310a8-c5b0-4bc0-990f-a778a4a4c8e5",
   "metadata": {},
   "outputs": [
    {
     "data": {
      "text/html": [
       "<table class=\"simpletable\">\n",
       "<caption>OLS Regression Results</caption>\n",
       "<tr>\n",
       "  <th>Dep. Variable:</th>     <td>Budget_Variance</td> <th>  R-squared:         </th> <td>   0.728</td>\n",
       "</tr>\n",
       "<tr>\n",
       "  <th>Model:</th>                   <td>OLS</td>       <th>  Adj. R-squared:    </th> <td>   0.579</td>\n",
       "</tr>\n",
       "<tr>\n",
       "  <th>Method:</th>             <td>Least Squares</td>  <th>  F-statistic:       </th> <td>   4.877</td>\n",
       "</tr>\n",
       "<tr>\n",
       "  <th>Date:</th>             <td>Sun, 17 Aug 2025</td> <th>  Prob (F-statistic):</th> <td>6.80e-05</td>\n",
       "</tr>\n",
       "<tr>\n",
       "  <th>Time:</th>                 <td>01:02:52</td>     <th>  Log-Likelihood:    </th> <td> -711.83</td>\n",
       "</tr>\n",
       "<tr>\n",
       "  <th>No. Observations:</th>      <td>    49</td>      <th>  AIC:               </th> <td>   1460.</td>\n",
       "</tr>\n",
       "<tr>\n",
       "  <th>Df Residuals:</th>          <td>    31</td>      <th>  BIC:               </th> <td>   1494.</td>\n",
       "</tr>\n",
       "<tr>\n",
       "  <th>Df Model:</th>              <td>    17</td>      <th>                     </th>     <td> </td>   \n",
       "</tr>\n",
       "<tr>\n",
       "  <th>Covariance Type:</th>      <td>nonrobust</td>    <th>                     </th>     <td> </td>   \n",
       "</tr>\n",
       "</table>\n",
       "<table class=\"simpletable\">\n",
       "<tr>\n",
       "                          <td></td>                             <th>coef</th>     <th>std err</th>      <th>t</th>      <th>P>|t|</th>  <th>[0.025</th>    <th>0.975]</th>  \n",
       "</tr>\n",
       "<tr>\n",
       "  <th>const</th>                                             <td> 7.377e+05</td> <td> 4.88e+05</td> <td>    1.512</td> <td> 0.141</td> <td>-2.57e+05</td> <td> 1.73e+06</td>\n",
       "</tr>\n",
       "<tr>\n",
       "  <th>OriginalBudget</th>                                    <td>   -1.1976</td> <td>    0.186</td> <td>   -6.427</td> <td> 0.000</td> <td>   -1.578</td> <td>   -0.818</td>\n",
       "</tr>\n",
       "<tr>\n",
       "  <th>ChangeOrderCount</th>                                  <td> 3.022e+04</td> <td> 9.88e+04</td> <td>    0.306</td> <td> 0.762</td> <td>-1.71e+05</td> <td> 2.32e+05</td>\n",
       "</tr>\n",
       "<tr>\n",
       "  <th>FormCounter</th>                                       <td>-1.939e+04</td> <td> 9.99e+04</td> <td>   -0.194</td> <td> 0.847</td> <td>-2.23e+05</td> <td> 1.84e+05</td>\n",
       "</tr>\n",
       "<tr>\n",
       "  <th>act_var</th>                                           <td> 4136.4950</td> <td>  1.4e+04</td> <td>    0.295</td> <td> 0.770</td> <td>-2.45e+04</td> <td> 3.28e+04</td>\n",
       "</tr>\n",
       "<tr>\n",
       "  <th>C&C ELECTRICAL SERVICES LLC - 100167658</th>           <td> 6.721e+05</td> <td> 1.34e+06</td> <td>    0.500</td> <td> 0.621</td> <td>-2.07e+06</td> <td> 3.41e+06</td>\n",
       "</tr>\n",
       "<tr>\n",
       "  <th>CARROLL DANIEL CONSTRUCTION CO - 100200909</th>        <td>-1.035e+05</td> <td> 1.24e+06</td> <td>   -0.084</td> <td> 0.934</td> <td>-2.62e+06</td> <td> 2.42e+06</td>\n",
       "</tr>\n",
       "<tr>\n",
       "  <th>CUMMING MANAGEMENT GROUP INC - 100017347</th>          <td>-3.104e-10</td> <td> 1.49e-09</td> <td>   -0.208</td> <td> 0.837</td> <td>-3.35e-09</td> <td> 2.73e-09</td>\n",
       "</tr>\n",
       "<tr>\n",
       "  <th>DG INVESTMENT INTERMEDIATE HOLDINGS 2 - 100021530</th> <td>-2.672e+05</td> <td> 7.34e+05</td> <td>   -0.364</td> <td> 0.718</td> <td>-1.76e+06</td> <td> 1.23e+06</td>\n",
       "</tr>\n",
       "<tr>\n",
       "  <th>EPSTEN GROUP INC - 100152259</th>                      <td>  -6.4e+05</td> <td> 1.02e+06</td> <td>   -0.627</td> <td> 0.535</td> <td>-2.72e+06</td> <td> 1.44e+06</td>\n",
       "</tr>\n",
       "<tr>\n",
       "  <th>GRESHAM SMITH - 100065499</th>                         <td>-2.268e+05</td> <td> 1.25e+06</td> <td>   -0.182</td> <td> 0.857</td> <td>-2.77e+06</td> <td> 2.32e+06</td>\n",
       "</tr>\n",
       "<tr>\n",
       "  <th>GUIDEPOST SOLUTIONS LLC - 100042226</th>               <td> 2.347e+05</td> <td> 9.01e+05</td> <td>    0.261</td> <td> 0.796</td> <td> -1.6e+06</td> <td> 2.07e+06</td>\n",
       "</tr>\n",
       "<tr>\n",
       "  <th>KC CONSTRUCTION OF GEORGIA INC - 100194403</th>        <td>-1.052e+06</td> <td>  1.3e+06</td> <td>   -0.812</td> <td> 0.423</td> <td> -3.7e+06</td> <td> 1.59e+06</td>\n",
       "</tr>\n",
       "<tr>\n",
       "  <th>LEAPLEY CONSTRUCTION GROUP OF ATLANTA - 100109456</th> <td>-6.091e+05</td> <td> 1.29e+06</td> <td>   -0.472</td> <td> 0.640</td> <td>-3.24e+06</td> <td> 2.02e+06</td>\n",
       "</tr>\n",
       "<tr>\n",
       "  <th>MCCARTHY BUILDING COMPANIES INC - 100013473</th>       <td>-1.063e+06</td> <td> 1.72e+06</td> <td>   -0.617</td> <td> 0.542</td> <td>-4.58e+06</td> <td> 2.45e+06</td>\n",
       "</tr>\n",
       "<tr>\n",
       "  <th>SOUTHEASTERN COMMERCIAL FLOORING INC - 100092358</th>  <td>-6.584e+05</td> <td> 1.39e+06</td> <td>   -0.474</td> <td> 0.639</td> <td>-3.49e+06</td> <td> 2.17e+06</td>\n",
       "</tr>\n",
       "<tr>\n",
       "  <th>TLS ELECTRICAL CO INC - 100022743</th>                 <td>-2.672e+05</td> <td> 7.34e+05</td> <td>   -0.364</td> <td> 0.718</td> <td>-1.76e+06</td> <td> 1.23e+06</td>\n",
       "</tr>\n",
       "<tr>\n",
       "  <th>US CAD HOLDINGS LLC - 100177283</th>                   <td>-7.648e-11</td> <td> 1.04e-10</td> <td>   -0.733</td> <td> 0.469</td> <td>-2.89e-10</td> <td> 1.36e-10</td>\n",
       "</tr>\n",
       "<tr>\n",
       "  <th>WEBMYERS CONSTRUCTION LLC - 100150242</th>             <td> 4.856e+05</td> <td>  1.3e+06</td> <td>    0.372</td> <td> 0.712</td> <td>-2.17e+06</td> <td> 3.15e+06</td>\n",
       "</tr>\n",
       "<tr>\n",
       "  <th>YANCEY BROS CO - 100092368</th>                        <td> -4.26e+05</td> <td> 1.38e+06</td> <td>   -0.308</td> <td> 0.760</td> <td>-3.25e+06</td> <td> 2.39e+06</td>\n",
       "</tr>\n",
       "<tr>\n",
       "  <th>unkown</th>                                            <td> 7721.6451</td> <td> 2.34e+05</td> <td>    0.033</td> <td> 0.974</td> <td>-4.69e+05</td> <td> 4.85e+05</td>\n",
       "</tr>\n",
       "<tr>\n",
       "  <th>FundingType_Main Loan Fund (MLF)</th>                  <td>         0</td> <td>        0</td> <td>      nan</td> <td>   nan</td> <td>        0</td> <td>        0</td>\n",
       "</tr>\n",
       "<tr>\n",
       "  <th>FundingType_Plant Maint and Renovation (PMR)</th>      <td>   7.3e+05</td> <td> 7.14e+05</td> <td>    1.022</td> <td> 0.315</td> <td>-7.27e+05</td> <td> 2.19e+06</td>\n",
       "</tr>\n",
       "<tr>\n",
       "  <th>FundingType_unkown</th>                                <td> 7721.6451</td> <td> 2.34e+05</td> <td>    0.033</td> <td> 0.974</td> <td>-4.69e+05</td> <td> 4.85e+05</td>\n",
       "</tr>\n",
       "</table>\n",
       "<table class=\"simpletable\">\n",
       "<tr>\n",
       "  <th>Omnibus:</th>       <td> 8.178</td> <th>  Durbin-Watson:     </th> <td>   1.897</td>\n",
       "</tr>\n",
       "<tr>\n",
       "  <th>Prob(Omnibus):</th> <td> 0.017</td> <th>  Jarque-Bera (JB):  </th> <td>   7.397</td>\n",
       "</tr>\n",
       "<tr>\n",
       "  <th>Skew:</th>          <td> 0.914</td> <th>  Prob(JB):          </th> <td>  0.0248</td>\n",
       "</tr>\n",
       "<tr>\n",
       "  <th>Kurtosis:</th>      <td> 3.534</td> <th>  Cond. No.          </th> <td>8.29e+42</td>\n",
       "</tr>\n",
       "</table><br/><br/>Notes:<br/>[1] Standard Errors assume that the covariance matrix of the errors is correctly specified.<br/>[2] The smallest eigenvalue is 5.66e-73. This might indicate that there are<br/>strong multicollinearity problems or that the design matrix is singular."
      ],
      "text/latex": [
       "\\begin{center}\n",
       "\\begin{tabular}{lclc}\n",
       "\\toprule\n",
       "\\textbf{Dep. Variable:}                                    & Budget\\_Variance & \\textbf{  R-squared:         } &     0.728   \\\\\n",
       "\\textbf{Model:}                                            &       OLS        & \\textbf{  Adj. R-squared:    } &     0.579   \\\\\n",
       "\\textbf{Method:}                                           &  Least Squares   & \\textbf{  F-statistic:       } &     4.877   \\\\\n",
       "\\textbf{Date:}                                             & Sun, 17 Aug 2025 & \\textbf{  Prob (F-statistic):} &  6.80e-05   \\\\\n",
       "\\textbf{Time:}                                             &     01:02:52     & \\textbf{  Log-Likelihood:    } &   -711.83   \\\\\n",
       "\\textbf{No. Observations:}                                 &          49      & \\textbf{  AIC:               } &     1460.   \\\\\n",
       "\\textbf{Df Residuals:}                                     &          31      & \\textbf{  BIC:               } &     1494.   \\\\\n",
       "\\textbf{Df Model:}                                         &          17      & \\textbf{                     } &             \\\\\n",
       "\\textbf{Covariance Type:}                                  &    nonrobust     & \\textbf{                     } &             \\\\\n",
       "\\bottomrule\n",
       "\\end{tabular}\n",
       "\\begin{tabular}{lcccccc}\n",
       "                                                           & \\textbf{coef} & \\textbf{std err} & \\textbf{t} & \\textbf{P$> |$t$|$} & \\textbf{[0.025} & \\textbf{0.975]}  \\\\\n",
       "\\midrule\n",
       "\\textbf{const}                                             &    7.377e+05  &     4.88e+05     &     1.512  &         0.141        &    -2.57e+05    &     1.73e+06     \\\\\n",
       "\\textbf{OriginalBudget}                                    &      -1.1976  &        0.186     &    -6.427  &         0.000        &       -1.578    &       -0.818     \\\\\n",
       "\\textbf{ChangeOrderCount}                                  &    3.022e+04  &     9.88e+04     &     0.306  &         0.762        &    -1.71e+05    &     2.32e+05     \\\\\n",
       "\\textbf{FormCounter}                                       &   -1.939e+04  &     9.99e+04     &    -0.194  &         0.847        &    -2.23e+05    &     1.84e+05     \\\\\n",
       "\\textbf{act\\_var}                                          &    4136.4950  &      1.4e+04     &     0.295  &         0.770        &    -2.45e+04    &     3.28e+04     \\\\\n",
       "\\textbf{C\\&C ELECTRICAL SERVICES LLC - 100167658}          &    6.721e+05  &     1.34e+06     &     0.500  &         0.621        &    -2.07e+06    &     3.41e+06     \\\\\n",
       "\\textbf{CARROLL DANIEL CONSTRUCTION CO - 100200909}        &   -1.035e+05  &     1.24e+06     &    -0.084  &         0.934        &    -2.62e+06    &     2.42e+06     \\\\\n",
       "\\textbf{CUMMING MANAGEMENT GROUP INC - 100017347}          &   -3.104e-10  &     1.49e-09     &    -0.208  &         0.837        &    -3.35e-09    &     2.73e-09     \\\\\n",
       "\\textbf{DG INVESTMENT INTERMEDIATE HOLDINGS 2 - 100021530} &   -2.672e+05  &     7.34e+05     &    -0.364  &         0.718        &    -1.76e+06    &     1.23e+06     \\\\\n",
       "\\textbf{EPSTEN GROUP INC - 100152259}                      &     -6.4e+05  &     1.02e+06     &    -0.627  &         0.535        &    -2.72e+06    &     1.44e+06     \\\\\n",
       "\\textbf{GRESHAM SMITH - 100065499}                         &   -2.268e+05  &     1.25e+06     &    -0.182  &         0.857        &    -2.77e+06    &     2.32e+06     \\\\\n",
       "\\textbf{GUIDEPOST SOLUTIONS LLC - 100042226}               &    2.347e+05  &     9.01e+05     &     0.261  &         0.796        &     -1.6e+06    &     2.07e+06     \\\\\n",
       "\\textbf{KC CONSTRUCTION OF GEORGIA INC - 100194403}        &   -1.052e+06  &      1.3e+06     &    -0.812  &         0.423        &     -3.7e+06    &     1.59e+06     \\\\\n",
       "\\textbf{LEAPLEY CONSTRUCTION GROUP OF ATLANTA - 100109456} &   -6.091e+05  &     1.29e+06     &    -0.472  &         0.640        &    -3.24e+06    &     2.02e+06     \\\\\n",
       "\\textbf{MCCARTHY BUILDING COMPANIES INC - 100013473}       &   -1.063e+06  &     1.72e+06     &    -0.617  &         0.542        &    -4.58e+06    &     2.45e+06     \\\\\n",
       "\\textbf{SOUTHEASTERN COMMERCIAL FLOORING INC - 100092358}  &   -6.584e+05  &     1.39e+06     &    -0.474  &         0.639        &    -3.49e+06    &     2.17e+06     \\\\\n",
       "\\textbf{TLS ELECTRICAL CO INC - 100022743}                 &   -2.672e+05  &     7.34e+05     &    -0.364  &         0.718        &    -1.76e+06    &     1.23e+06     \\\\\n",
       "\\textbf{US CAD HOLDINGS LLC - 100177283}                   &   -7.648e-11  &     1.04e-10     &    -0.733  &         0.469        &    -2.89e-10    &     1.36e-10     \\\\\n",
       "\\textbf{WEBMYERS CONSTRUCTION LLC - 100150242}             &    4.856e+05  &      1.3e+06     &     0.372  &         0.712        &    -2.17e+06    &     3.15e+06     \\\\\n",
       "\\textbf{YANCEY BROS CO - 100092368}                        &    -4.26e+05  &     1.38e+06     &    -0.308  &         0.760        &    -3.25e+06    &     2.39e+06     \\\\\n",
       "\\textbf{unkown}                                            &    7721.6451  &     2.34e+05     &     0.033  &         0.974        &    -4.69e+05    &     4.85e+05     \\\\\n",
       "\\textbf{FundingType\\_Main Loan Fund (MLF)}                 &            0  &            0     &       nan  &           nan        &            0    &            0     \\\\\n",
       "\\textbf{FundingType\\_Plant Maint and Renovation (PMR)}     &      7.3e+05  &     7.14e+05     &     1.022  &         0.315        &    -7.27e+05    &     2.19e+06     \\\\\n",
       "\\textbf{FundingType\\_unkown}                               &    7721.6451  &     2.34e+05     &     0.033  &         0.974        &    -4.69e+05    &     4.85e+05     \\\\\n",
       "\\bottomrule\n",
       "\\end{tabular}\n",
       "\\begin{tabular}{lclc}\n",
       "\\textbf{Omnibus:}       &  8.178 & \\textbf{  Durbin-Watson:     } &    1.897  \\\\\n",
       "\\textbf{Prob(Omnibus):} &  0.017 & \\textbf{  Jarque-Bera (JB):  } &    7.397  \\\\\n",
       "\\textbf{Skew:}          &  0.914 & \\textbf{  Prob(JB):          } &   0.0248  \\\\\n",
       "\\textbf{Kurtosis:}      &  3.534 & \\textbf{  Cond. No.          } & 8.29e+42  \\\\\n",
       "\\bottomrule\n",
       "\\end{tabular}\n",
       "%\\caption{OLS Regression Results}\n",
       "\\end{center}\n",
       "\n",
       "Notes: \\newline\n",
       " [1] Standard Errors assume that the covariance matrix of the errors is correctly specified. \\newline\n",
       " [2] The smallest eigenvalue is 5.66e-73. This might indicate that there are \\newline\n",
       " strong multicollinearity problems or that the design matrix is singular."
      ],
      "text/plain": [
       "<class 'statsmodels.iolib.summary.Summary'>\n",
       "\"\"\"\n",
       "                            OLS Regression Results                            \n",
       "==============================================================================\n",
       "Dep. Variable:        Budget_Variance   R-squared:                       0.728\n",
       "Model:                            OLS   Adj. R-squared:                  0.579\n",
       "Method:                 Least Squares   F-statistic:                     4.877\n",
       "Date:                Sun, 17 Aug 2025   Prob (F-statistic):           6.80e-05\n",
       "Time:                        01:02:52   Log-Likelihood:                -711.83\n",
       "No. Observations:                  49   AIC:                             1460.\n",
       "Df Residuals:                      31   BIC:                             1494.\n",
       "Df Model:                          17                                         \n",
       "Covariance Type:            nonrobust                                         \n",
       "=====================================================================================================================\n",
       "                                                        coef    std err          t      P>|t|      [0.025      0.975]\n",
       "---------------------------------------------------------------------------------------------------------------------\n",
       "const                                              7.377e+05   4.88e+05      1.512      0.141   -2.57e+05    1.73e+06\n",
       "OriginalBudget                                       -1.1976      0.186     -6.427      0.000      -1.578      -0.818\n",
       "ChangeOrderCount                                   3.022e+04   9.88e+04      0.306      0.762   -1.71e+05    2.32e+05\n",
       "FormCounter                                       -1.939e+04   9.99e+04     -0.194      0.847   -2.23e+05    1.84e+05\n",
       "act_var                                            4136.4950    1.4e+04      0.295      0.770   -2.45e+04    3.28e+04\n",
       "C&C ELECTRICAL SERVICES LLC - 100167658            6.721e+05   1.34e+06      0.500      0.621   -2.07e+06    3.41e+06\n",
       "CARROLL DANIEL CONSTRUCTION CO - 100200909        -1.035e+05   1.24e+06     -0.084      0.934   -2.62e+06    2.42e+06\n",
       "CUMMING MANAGEMENT GROUP INC - 100017347          -3.104e-10   1.49e-09     -0.208      0.837   -3.35e-09    2.73e-09\n",
       "DG INVESTMENT INTERMEDIATE HOLDINGS 2 - 100021530 -2.672e+05   7.34e+05     -0.364      0.718   -1.76e+06    1.23e+06\n",
       "EPSTEN GROUP INC - 100152259                        -6.4e+05   1.02e+06     -0.627      0.535   -2.72e+06    1.44e+06\n",
       "GRESHAM SMITH - 100065499                         -2.268e+05   1.25e+06     -0.182      0.857   -2.77e+06    2.32e+06\n",
       "GUIDEPOST SOLUTIONS LLC - 100042226                2.347e+05   9.01e+05      0.261      0.796    -1.6e+06    2.07e+06\n",
       "KC CONSTRUCTION OF GEORGIA INC - 100194403        -1.052e+06    1.3e+06     -0.812      0.423    -3.7e+06    1.59e+06\n",
       "LEAPLEY CONSTRUCTION GROUP OF ATLANTA - 100109456 -6.091e+05   1.29e+06     -0.472      0.640   -3.24e+06    2.02e+06\n",
       "MCCARTHY BUILDING COMPANIES INC - 100013473       -1.063e+06   1.72e+06     -0.617      0.542   -4.58e+06    2.45e+06\n",
       "SOUTHEASTERN COMMERCIAL FLOORING INC - 100092358  -6.584e+05   1.39e+06     -0.474      0.639   -3.49e+06    2.17e+06\n",
       "TLS ELECTRICAL CO INC - 100022743                 -2.672e+05   7.34e+05     -0.364      0.718   -1.76e+06    1.23e+06\n",
       "US CAD HOLDINGS LLC - 100177283                   -7.648e-11   1.04e-10     -0.733      0.469   -2.89e-10    1.36e-10\n",
       "WEBMYERS CONSTRUCTION LLC - 100150242              4.856e+05    1.3e+06      0.372      0.712   -2.17e+06    3.15e+06\n",
       "YANCEY BROS CO - 100092368                         -4.26e+05   1.38e+06     -0.308      0.760   -3.25e+06    2.39e+06\n",
       "unkown                                             7721.6451   2.34e+05      0.033      0.974   -4.69e+05    4.85e+05\n",
       "FundingType_Main Loan Fund (MLF)                           0          0        nan        nan           0           0\n",
       "FundingType_Plant Maint and Renovation (PMR)         7.3e+05   7.14e+05      1.022      0.315   -7.27e+05    2.19e+06\n",
       "FundingType_unkown                                 7721.6451   2.34e+05      0.033      0.974   -4.69e+05    4.85e+05\n",
       "==============================================================================\n",
       "Omnibus:                        8.178   Durbin-Watson:                   1.897\n",
       "Prob(Omnibus):                  0.017   Jarque-Bera (JB):                7.397\n",
       "Skew:                           0.914   Prob(JB):                       0.0248\n",
       "Kurtosis:                       3.534   Cond. No.                     8.29e+42\n",
       "==============================================================================\n",
       "\n",
       "Notes:\n",
       "[1] Standard Errors assume that the covariance matrix of the errors is correctly specified.\n",
       "[2] The smallest eigenvalue is 5.66e-73. This might indicate that there are\n",
       "strong multicollinearity problems or that the design matrix is singular.\n",
       "\"\"\""
      ]
     },
     "execution_count": 35,
     "metadata": {},
     "output_type": "execute_result"
    }
   ],
   "source": [
    "# Completing an OLS model\n",
    "# Identifying a strong adjusted R2 performance, along with variables such as original budget, formcounter, and MLF/PMR as statistically significant\n",
    "model = sm.OLS(y_train, X_train_const).fit()\n",
    "model.summary()"
   ]
  },
  {
   "cell_type": "code",
   "execution_count": 36,
   "id": "90119a4b-ab1f-420d-b1db-b23cbe9d19c1",
   "metadata": {},
   "outputs": [],
   "source": [
    "# Preparing for linearRegression\n",
    "lr = LinearRegression()"
   ]
  },
  {
   "cell_type": "code",
   "execution_count": 37,
   "id": "f6ee8c7d-b94d-4d55-a26a-673f33a86228",
   "metadata": {},
   "outputs": [
    {
     "data": {
      "text/html": [
       "<style>#sk-container-id-1 {\n",
       "  /* Definition of color scheme common for light and dark mode */\n",
       "  --sklearn-color-text: black;\n",
       "  --sklearn-color-line: gray;\n",
       "  /* Definition of color scheme for unfitted estimators */\n",
       "  --sklearn-color-unfitted-level-0: #fff5e6;\n",
       "  --sklearn-color-unfitted-level-1: #f6e4d2;\n",
       "  --sklearn-color-unfitted-level-2: #ffe0b3;\n",
       "  --sklearn-color-unfitted-level-3: chocolate;\n",
       "  /* Definition of color scheme for fitted estimators */\n",
       "  --sklearn-color-fitted-level-0: #f0f8ff;\n",
       "  --sklearn-color-fitted-level-1: #d4ebff;\n",
       "  --sklearn-color-fitted-level-2: #b3dbfd;\n",
       "  --sklearn-color-fitted-level-3: cornflowerblue;\n",
       "\n",
       "  /* Specific color for light theme */\n",
       "  --sklearn-color-text-on-default-background: var(--sg-text-color, var(--theme-code-foreground, var(--jp-content-font-color1, black)));\n",
       "  --sklearn-color-background: var(--sg-background-color, var(--theme-background, var(--jp-layout-color0, white)));\n",
       "  --sklearn-color-border-box: var(--sg-text-color, var(--theme-code-foreground, var(--jp-content-font-color1, black)));\n",
       "  --sklearn-color-icon: #696969;\n",
       "\n",
       "  @media (prefers-color-scheme: dark) {\n",
       "    /* Redefinition of color scheme for dark theme */\n",
       "    --sklearn-color-text-on-default-background: var(--sg-text-color, var(--theme-code-foreground, var(--jp-content-font-color1, white)));\n",
       "    --sklearn-color-background: var(--sg-background-color, var(--theme-background, var(--jp-layout-color0, #111)));\n",
       "    --sklearn-color-border-box: var(--sg-text-color, var(--theme-code-foreground, var(--jp-content-font-color1, white)));\n",
       "    --sklearn-color-icon: #878787;\n",
       "  }\n",
       "}\n",
       "\n",
       "#sk-container-id-1 {\n",
       "  color: var(--sklearn-color-text);\n",
       "}\n",
       "\n",
       "#sk-container-id-1 pre {\n",
       "  padding: 0;\n",
       "}\n",
       "\n",
       "#sk-container-id-1 input.sk-hidden--visually {\n",
       "  border: 0;\n",
       "  clip: rect(1px 1px 1px 1px);\n",
       "  clip: rect(1px, 1px, 1px, 1px);\n",
       "  height: 1px;\n",
       "  margin: -1px;\n",
       "  overflow: hidden;\n",
       "  padding: 0;\n",
       "  position: absolute;\n",
       "  width: 1px;\n",
       "}\n",
       "\n",
       "#sk-container-id-1 div.sk-dashed-wrapped {\n",
       "  border: 1px dashed var(--sklearn-color-line);\n",
       "  margin: 0 0.4em 0.5em 0.4em;\n",
       "  box-sizing: border-box;\n",
       "  padding-bottom: 0.4em;\n",
       "  background-color: var(--sklearn-color-background);\n",
       "}\n",
       "\n",
       "#sk-container-id-1 div.sk-container {\n",
       "  /* jupyter's `normalize.less` sets `[hidden] { display: none; }`\n",
       "     but bootstrap.min.css set `[hidden] { display: none !important; }`\n",
       "     so we also need the `!important` here to be able to override the\n",
       "     default hidden behavior on the sphinx rendered scikit-learn.org.\n",
       "     See: https://github.com/scikit-learn/scikit-learn/issues/21755 */\n",
       "  display: inline-block !important;\n",
       "  position: relative;\n",
       "}\n",
       "\n",
       "#sk-container-id-1 div.sk-text-repr-fallback {\n",
       "  display: none;\n",
       "}\n",
       "\n",
       "div.sk-parallel-item,\n",
       "div.sk-serial,\n",
       "div.sk-item {\n",
       "  /* draw centered vertical line to link estimators */\n",
       "  background-image: linear-gradient(var(--sklearn-color-text-on-default-background), var(--sklearn-color-text-on-default-background));\n",
       "  background-size: 2px 100%;\n",
       "  background-repeat: no-repeat;\n",
       "  background-position: center center;\n",
       "}\n",
       "\n",
       "/* Parallel-specific style estimator block */\n",
       "\n",
       "#sk-container-id-1 div.sk-parallel-item::after {\n",
       "  content: \"\";\n",
       "  width: 100%;\n",
       "  border-bottom: 2px solid var(--sklearn-color-text-on-default-background);\n",
       "  flex-grow: 1;\n",
       "}\n",
       "\n",
       "#sk-container-id-1 div.sk-parallel {\n",
       "  display: flex;\n",
       "  align-items: stretch;\n",
       "  justify-content: center;\n",
       "  background-color: var(--sklearn-color-background);\n",
       "  position: relative;\n",
       "}\n",
       "\n",
       "#sk-container-id-1 div.sk-parallel-item {\n",
       "  display: flex;\n",
       "  flex-direction: column;\n",
       "}\n",
       "\n",
       "#sk-container-id-1 div.sk-parallel-item:first-child::after {\n",
       "  align-self: flex-end;\n",
       "  width: 50%;\n",
       "}\n",
       "\n",
       "#sk-container-id-1 div.sk-parallel-item:last-child::after {\n",
       "  align-self: flex-start;\n",
       "  width: 50%;\n",
       "}\n",
       "\n",
       "#sk-container-id-1 div.sk-parallel-item:only-child::after {\n",
       "  width: 0;\n",
       "}\n",
       "\n",
       "/* Serial-specific style estimator block */\n",
       "\n",
       "#sk-container-id-1 div.sk-serial {\n",
       "  display: flex;\n",
       "  flex-direction: column;\n",
       "  align-items: center;\n",
       "  background-color: var(--sklearn-color-background);\n",
       "  padding-right: 1em;\n",
       "  padding-left: 1em;\n",
       "}\n",
       "\n",
       "\n",
       "/* Toggleable style: style used for estimator/Pipeline/ColumnTransformer box that is\n",
       "clickable and can be expanded/collapsed.\n",
       "- Pipeline and ColumnTransformer use this feature and define the default style\n",
       "- Estimators will overwrite some part of the style using the `sk-estimator` class\n",
       "*/\n",
       "\n",
       "/* Pipeline and ColumnTransformer style (default) */\n",
       "\n",
       "#sk-container-id-1 div.sk-toggleable {\n",
       "  /* Default theme specific background. It is overwritten whether we have a\n",
       "  specific estimator or a Pipeline/ColumnTransformer */\n",
       "  background-color: var(--sklearn-color-background);\n",
       "}\n",
       "\n",
       "/* Toggleable label */\n",
       "#sk-container-id-1 label.sk-toggleable__label {\n",
       "  cursor: pointer;\n",
       "  display: block;\n",
       "  width: 100%;\n",
       "  margin-bottom: 0;\n",
       "  padding: 0.5em;\n",
       "  box-sizing: border-box;\n",
       "  text-align: center;\n",
       "}\n",
       "\n",
       "#sk-container-id-1 label.sk-toggleable__label-arrow:before {\n",
       "  /* Arrow on the left of the label */\n",
       "  content: \"▸\";\n",
       "  float: left;\n",
       "  margin-right: 0.25em;\n",
       "  color: var(--sklearn-color-icon);\n",
       "}\n",
       "\n",
       "#sk-container-id-1 label.sk-toggleable__label-arrow:hover:before {\n",
       "  color: var(--sklearn-color-text);\n",
       "}\n",
       "\n",
       "/* Toggleable content - dropdown */\n",
       "\n",
       "#sk-container-id-1 div.sk-toggleable__content {\n",
       "  max-height: 0;\n",
       "  max-width: 0;\n",
       "  overflow: hidden;\n",
       "  text-align: left;\n",
       "  /* unfitted */\n",
       "  background-color: var(--sklearn-color-unfitted-level-0);\n",
       "}\n",
       "\n",
       "#sk-container-id-1 div.sk-toggleable__content.fitted {\n",
       "  /* fitted */\n",
       "  background-color: var(--sklearn-color-fitted-level-0);\n",
       "}\n",
       "\n",
       "#sk-container-id-1 div.sk-toggleable__content pre {\n",
       "  margin: 0.2em;\n",
       "  border-radius: 0.25em;\n",
       "  color: var(--sklearn-color-text);\n",
       "  /* unfitted */\n",
       "  background-color: var(--sklearn-color-unfitted-level-0);\n",
       "}\n",
       "\n",
       "#sk-container-id-1 div.sk-toggleable__content.fitted pre {\n",
       "  /* unfitted */\n",
       "  background-color: var(--sklearn-color-fitted-level-0);\n",
       "}\n",
       "\n",
       "#sk-container-id-1 input.sk-toggleable__control:checked~div.sk-toggleable__content {\n",
       "  /* Expand drop-down */\n",
       "  max-height: 200px;\n",
       "  max-width: 100%;\n",
       "  overflow: auto;\n",
       "}\n",
       "\n",
       "#sk-container-id-1 input.sk-toggleable__control:checked~label.sk-toggleable__label-arrow:before {\n",
       "  content: \"▾\";\n",
       "}\n",
       "\n",
       "/* Pipeline/ColumnTransformer-specific style */\n",
       "\n",
       "#sk-container-id-1 div.sk-label input.sk-toggleable__control:checked~label.sk-toggleable__label {\n",
       "  color: var(--sklearn-color-text);\n",
       "  background-color: var(--sklearn-color-unfitted-level-2);\n",
       "}\n",
       "\n",
       "#sk-container-id-1 div.sk-label.fitted input.sk-toggleable__control:checked~label.sk-toggleable__label {\n",
       "  background-color: var(--sklearn-color-fitted-level-2);\n",
       "}\n",
       "\n",
       "/* Estimator-specific style */\n",
       "\n",
       "/* Colorize estimator box */\n",
       "#sk-container-id-1 div.sk-estimator input.sk-toggleable__control:checked~label.sk-toggleable__label {\n",
       "  /* unfitted */\n",
       "  background-color: var(--sklearn-color-unfitted-level-2);\n",
       "}\n",
       "\n",
       "#sk-container-id-1 div.sk-estimator.fitted input.sk-toggleable__control:checked~label.sk-toggleable__label {\n",
       "  /* fitted */\n",
       "  background-color: var(--sklearn-color-fitted-level-2);\n",
       "}\n",
       "\n",
       "#sk-container-id-1 div.sk-label label.sk-toggleable__label,\n",
       "#sk-container-id-1 div.sk-label label {\n",
       "  /* The background is the default theme color */\n",
       "  color: var(--sklearn-color-text-on-default-background);\n",
       "}\n",
       "\n",
       "/* On hover, darken the color of the background */\n",
       "#sk-container-id-1 div.sk-label:hover label.sk-toggleable__label {\n",
       "  color: var(--sklearn-color-text);\n",
       "  background-color: var(--sklearn-color-unfitted-level-2);\n",
       "}\n",
       "\n",
       "/* Label box, darken color on hover, fitted */\n",
       "#sk-container-id-1 div.sk-label.fitted:hover label.sk-toggleable__label.fitted {\n",
       "  color: var(--sklearn-color-text);\n",
       "  background-color: var(--sklearn-color-fitted-level-2);\n",
       "}\n",
       "\n",
       "/* Estimator label */\n",
       "\n",
       "#sk-container-id-1 div.sk-label label {\n",
       "  font-family: monospace;\n",
       "  font-weight: bold;\n",
       "  display: inline-block;\n",
       "  line-height: 1.2em;\n",
       "}\n",
       "\n",
       "#sk-container-id-1 div.sk-label-container {\n",
       "  text-align: center;\n",
       "}\n",
       "\n",
       "/* Estimator-specific */\n",
       "#sk-container-id-1 div.sk-estimator {\n",
       "  font-family: monospace;\n",
       "  border: 1px dotted var(--sklearn-color-border-box);\n",
       "  border-radius: 0.25em;\n",
       "  box-sizing: border-box;\n",
       "  margin-bottom: 0.5em;\n",
       "  /* unfitted */\n",
       "  background-color: var(--sklearn-color-unfitted-level-0);\n",
       "}\n",
       "\n",
       "#sk-container-id-1 div.sk-estimator.fitted {\n",
       "  /* fitted */\n",
       "  background-color: var(--sklearn-color-fitted-level-0);\n",
       "}\n",
       "\n",
       "/* on hover */\n",
       "#sk-container-id-1 div.sk-estimator:hover {\n",
       "  /* unfitted */\n",
       "  background-color: var(--sklearn-color-unfitted-level-2);\n",
       "}\n",
       "\n",
       "#sk-container-id-1 div.sk-estimator.fitted:hover {\n",
       "  /* fitted */\n",
       "  background-color: var(--sklearn-color-fitted-level-2);\n",
       "}\n",
       "\n",
       "/* Specification for estimator info (e.g. \"i\" and \"?\") */\n",
       "\n",
       "/* Common style for \"i\" and \"?\" */\n",
       "\n",
       ".sk-estimator-doc-link,\n",
       "a:link.sk-estimator-doc-link,\n",
       "a:visited.sk-estimator-doc-link {\n",
       "  float: right;\n",
       "  font-size: smaller;\n",
       "  line-height: 1em;\n",
       "  font-family: monospace;\n",
       "  background-color: var(--sklearn-color-background);\n",
       "  border-radius: 1em;\n",
       "  height: 1em;\n",
       "  width: 1em;\n",
       "  text-decoration: none !important;\n",
       "  margin-left: 1ex;\n",
       "  /* unfitted */\n",
       "  border: var(--sklearn-color-unfitted-level-1) 1pt solid;\n",
       "  color: var(--sklearn-color-unfitted-level-1);\n",
       "}\n",
       "\n",
       ".sk-estimator-doc-link.fitted,\n",
       "a:link.sk-estimator-doc-link.fitted,\n",
       "a:visited.sk-estimator-doc-link.fitted {\n",
       "  /* fitted */\n",
       "  border: var(--sklearn-color-fitted-level-1) 1pt solid;\n",
       "  color: var(--sklearn-color-fitted-level-1);\n",
       "}\n",
       "\n",
       "/* On hover */\n",
       "div.sk-estimator:hover .sk-estimator-doc-link:hover,\n",
       ".sk-estimator-doc-link:hover,\n",
       "div.sk-label-container:hover .sk-estimator-doc-link:hover,\n",
       ".sk-estimator-doc-link:hover {\n",
       "  /* unfitted */\n",
       "  background-color: var(--sklearn-color-unfitted-level-3);\n",
       "  color: var(--sklearn-color-background);\n",
       "  text-decoration: none;\n",
       "}\n",
       "\n",
       "div.sk-estimator.fitted:hover .sk-estimator-doc-link.fitted:hover,\n",
       ".sk-estimator-doc-link.fitted:hover,\n",
       "div.sk-label-container:hover .sk-estimator-doc-link.fitted:hover,\n",
       ".sk-estimator-doc-link.fitted:hover {\n",
       "  /* fitted */\n",
       "  background-color: var(--sklearn-color-fitted-level-3);\n",
       "  color: var(--sklearn-color-background);\n",
       "  text-decoration: none;\n",
       "}\n",
       "\n",
       "/* Span, style for the box shown on hovering the info icon */\n",
       ".sk-estimator-doc-link span {\n",
       "  display: none;\n",
       "  z-index: 9999;\n",
       "  position: relative;\n",
       "  font-weight: normal;\n",
       "  right: .2ex;\n",
       "  padding: .5ex;\n",
       "  margin: .5ex;\n",
       "  width: min-content;\n",
       "  min-width: 20ex;\n",
       "  max-width: 50ex;\n",
       "  color: var(--sklearn-color-text);\n",
       "  box-shadow: 2pt 2pt 4pt #999;\n",
       "  /* unfitted */\n",
       "  background: var(--sklearn-color-unfitted-level-0);\n",
       "  border: .5pt solid var(--sklearn-color-unfitted-level-3);\n",
       "}\n",
       "\n",
       ".sk-estimator-doc-link.fitted span {\n",
       "  /* fitted */\n",
       "  background: var(--sklearn-color-fitted-level-0);\n",
       "  border: var(--sklearn-color-fitted-level-3);\n",
       "}\n",
       "\n",
       ".sk-estimator-doc-link:hover span {\n",
       "  display: block;\n",
       "}\n",
       "\n",
       "/* \"?\"-specific style due to the `<a>` HTML tag */\n",
       "\n",
       "#sk-container-id-1 a.estimator_doc_link {\n",
       "  float: right;\n",
       "  font-size: 1rem;\n",
       "  line-height: 1em;\n",
       "  font-family: monospace;\n",
       "  background-color: var(--sklearn-color-background);\n",
       "  border-radius: 1rem;\n",
       "  height: 1rem;\n",
       "  width: 1rem;\n",
       "  text-decoration: none;\n",
       "  /* unfitted */\n",
       "  color: var(--sklearn-color-unfitted-level-1);\n",
       "  border: var(--sklearn-color-unfitted-level-1) 1pt solid;\n",
       "}\n",
       "\n",
       "#sk-container-id-1 a.estimator_doc_link.fitted {\n",
       "  /* fitted */\n",
       "  border: var(--sklearn-color-fitted-level-1) 1pt solid;\n",
       "  color: var(--sklearn-color-fitted-level-1);\n",
       "}\n",
       "\n",
       "/* On hover */\n",
       "#sk-container-id-1 a.estimator_doc_link:hover {\n",
       "  /* unfitted */\n",
       "  background-color: var(--sklearn-color-unfitted-level-3);\n",
       "  color: var(--sklearn-color-background);\n",
       "  text-decoration: none;\n",
       "}\n",
       "\n",
       "#sk-container-id-1 a.estimator_doc_link.fitted:hover {\n",
       "  /* fitted */\n",
       "  background-color: var(--sklearn-color-fitted-level-3);\n",
       "}\n",
       "</style><div id=\"sk-container-id-1\" class=\"sk-top-container\"><div class=\"sk-text-repr-fallback\"><pre>LinearRegression()</pre><b>In a Jupyter environment, please rerun this cell to show the HTML representation or trust the notebook. <br />On GitHub, the HTML representation is unable to render, please try loading this page with nbviewer.org.</b></div><div class=\"sk-container\" hidden><div class=\"sk-item\"><div class=\"sk-estimator fitted sk-toggleable\"><input class=\"sk-toggleable__control sk-hidden--visually\" id=\"sk-estimator-id-1\" type=\"checkbox\" checked><label for=\"sk-estimator-id-1\" class=\"sk-toggleable__label fitted sk-toggleable__label-arrow fitted\">&nbsp;&nbsp;LinearRegression<a class=\"sk-estimator-doc-link fitted\" rel=\"noreferrer\" target=\"_blank\" href=\"https://scikit-learn.org/1.4/modules/generated/sklearn.linear_model.LinearRegression.html\">?<span>Documentation for LinearRegression</span></a><span class=\"sk-estimator-doc-link fitted\">i<span>Fitted</span></span></label><div class=\"sk-toggleable__content fitted\"><pre>LinearRegression()</pre></div> </div></div></div></div>"
      ],
      "text/plain": [
       "LinearRegression()"
      ]
     },
     "execution_count": 37,
     "metadata": {},
     "output_type": "execute_result"
    }
   ],
   "source": [
    "# Fitting The training data using LinearRregressuon\n",
    "lr.fit(X_train, y_train)"
   ]
  },
  {
   "cell_type": "code",
   "execution_count": 38,
   "id": "28833809-c621-4682-b10c-b3a290af3b90",
   "metadata": {},
   "outputs": [],
   "source": [
    "# Creating predicted results based on the linear model created\n",
    "y_pred = lr.predict(X_test)"
   ]
  },
  {
   "cell_type": "code",
   "execution_count": 39,
   "id": "8be87f93-769c-4649-b4d5-4340c6e03e08",
   "metadata": {},
   "outputs": [
    {
     "name": "stdout",
     "output_type": "stream",
     "text": [
      "861546.2043036788\n"
     ]
    }
   ],
   "source": [
    "# Calculated root mean squared error\n",
    "score = root_mean_squared_error(y_test, y_pred)\n",
    "print(score)"
   ]
  },
  {
   "cell_type": "code",
   "execution_count": 40,
   "id": "4f8cb60e-5caa-402f-97ad-703a6fea7661",
   "metadata": {},
   "outputs": [
    {
     "data": {
      "text/plain": [
       "array([-1.19764860e+00,  3.02160787e+04, -1.93917509e+04,  4.13649497e+03,\n",
       "        6.72097317e+05, -1.03451443e+05,  5.82076609e-10, -2.67227861e+05,\n",
       "       -6.40009591e+05, -2.26797160e+05,  2.34681368e+05, -1.05224684e+06,\n",
       "       -6.09146943e+05, -1.06254007e+06, -6.58406842e+05, -2.67227861e+05,\n",
       "        6.98491931e-10,  4.85642430e+05, -4.25993047e+05, -2.38189035e+05,\n",
       "        0.00000000e+00,  2.38189035e+05, -2.38189035e+05])"
      ]
     },
     "execution_count": 40,
     "metadata": {},
     "output_type": "execute_result"
    }
   ],
   "source": [
    "# Reviewed coefficients used in the modeling\n",
    "lr.coef_"
   ]
  },
  {
   "cell_type": "code",
   "execution_count": 41,
   "id": "0e482be2-a0d7-455b-9d6c-3185525a7165",
   "metadata": {},
   "outputs": [],
   "source": [
    "# Completing Kfold to better model due to small sample size\n",
    "kf = KFold(n_splits = 8, shuffle = True, random_state=42)"
   ]
  },
  {
   "cell_type": "code",
   "execution_count": 42,
   "id": "b2284dbf-9467-4d0e-9dab-512f7a6e2004",
   "metadata": {},
   "outputs": [],
   "source": [
    "# Setting the display of the numeric values for more simpistic viewing\n",
    "np.set_printoptions(suppress=True)"
   ]
  },
  {
   "cell_type": "code",
   "execution_count": 43,
   "id": "a2212312-926f-44e0-aae9-a79a67710fb9",
   "metadata": {},
   "outputs": [
    {
     "name": "stdout",
     "output_type": "stream",
     "text": [
      "[ 0.63 -0.38 -3.91 -1.41  0.08  0.06  0.65  0.44]\n"
     ]
    }
   ],
   "source": [
    "# Calculated the cross validation scores from the Kfold process\n",
    "cv_score = np.round(cross_val_score(lr, X, y, cv=kf), 2)\n",
    "print(cv_score)"
   ]
  },
  {
   "cell_type": "code",
   "execution_count": 44,
   "id": "d27f63b2-3a88-4d23-ba4e-4ce1e45f416f",
   "metadata": {},
   "outputs": [
    {
     "name": "stdout",
     "output_type": "stream",
     "text": [
      "-0.48000000000000004\n"
     ]
    }
   ],
   "source": [
    "# Calulated the mean score\n",
    "print(np.mean(cv_score))"
   ]
  },
  {
   "cell_type": "code",
   "execution_count": 45,
   "id": "807bf0e9-995c-4ef6-8fcd-4b6892932228",
   "metadata": {},
   "outputs": [
    {
     "data": {
      "text/plain": [
       "-0.08710292614394466"
      ]
     },
     "execution_count": 45,
     "metadata": {},
     "output_type": "execute_result"
    }
   ],
   "source": [
    "# Created a pipeline for scaling the data, conducting GridSearchCV, with the score calculated once completed\n",
    "steps = [(\"scaler\", StandardScaler()),\n",
    "         (\"lr\", LinearRegression())]\n",
    "\n",
    "pipeline = Pipeline(steps)\n",
    "params = {\"lr__fit_intercept\" : [True,False]}\n",
    "tuning = GridSearchCV(pipeline, param_grid = params)\n",
    "tuning.fit(X_train, y_train)\n",
    "y_pred = tuning.predict(X_test)\n",
    "\n",
    "tuning.score(X_test, y_test)"
   ]
  },
  {
   "cell_type": "code",
   "execution_count": 46,
   "id": "f92a7a2d-2f4b-40f0-892e-e5ff14e539d3",
   "metadata": {},
   "outputs": [],
   "source": [
    "# Created monte carlo simulation function for future use\n",
    "def monte_carlo_var(model, base_input, feature_stds, n_simulations=10000, confidence_levels=[95, 99]):\n",
    "    simulated_preds = []\n",
    "\n",
    "    for _ in range(n_simulations):\n",
    "        noisy_input = base_input.copy()\n",
    "        for col in base_input.columns:\n",
    "            std = feature_stds.get(col, 0)\n",
    "            noisy_input[col] += np.random.normal(0, std)\n",
    "        pred = model.predict(noisy_input)[0]\n",
    "        simulated_preds.append(pred)\n",
    "\n",
    "    # created VAR results values for each iteration\n",
    "    var_results = {\n",
    "        f\"VaR_{level}\": np.percentile(simulated_preds, 100 - level)\n",
    "        for level in confidence_levels\n",
    "    }\n",
    "\n",
    "    return var_results, simulated_preds"
   ]
  },
  {
   "cell_type": "code",
   "execution_count": 47,
   "id": "38ac925e-41b4-4b7f-85a9-30d017f7d719",
   "metadata": {},
   "outputs": [],
   "source": [
    "# Created list including information from each iteration, and creating a dataframe to pull from for review once completed  for analysis\n",
    "var_records = []\n",
    "\n",
    "for idx, row in X_test.iterrows():\n",
    "    base_input = row.to_frame().T  \n",
    "    var_result, _ = monte_carlo_var(\n",
    "        model=tuning,\n",
    "        base_input=base_input,\n",
    "        feature_stds=X_train.std(), \n",
    "        n_simulations=1000           \n",
    "      \n",
    "    )\n",
    "    var_result[\"ProjectID\"] = idx  \n",
    "    var_records.append(var_result)\n",
    "\n",
    "var_df = pd.DataFrame(var_records)"
   ]
  },
  {
   "cell_type": "code",
   "execution_count": 48,
   "id": "afe36ceb-a5e5-42c8-816b-658e99334b03",
   "metadata": {},
   "outputs": [
    {
     "data": {
      "image/png": "[encoded data removed]",
      "text/plain": [
       "<Figure size 640x480 with 1 Axes>"
      ]
     },
     "metadata": {},
     "output_type": "display_data"
    }
   ],
   "source": [
    "# Boxplot identified most projects would have a negative VaR\n",
    "# VaR_99 is generally more negative, reflecting larger potential losses at higher confidence levels.\n",
    "# Several outliars are present that should be investigated futher\n",
    "sns.boxplot(data=var_df)\n",
    "plt.title(\"Distribution of Project-Level VaR\")\n",
    "plt.ylabel(\"Budget Variance\")\n",
    "plt.show()"
   ]
  },
  {
   "cell_type": "code",
   "execution_count": 49,
   "id": "f4a9798f-0688-4fa2-af84-3b61d4a65499",
   "metadata": {},
   "outputs": [
    {
     "data": {
      "image/png": "[encoded data removed]",
      "text/plain": [
       "<Figure size 640x480 with 1 Axes>"
      ]
     },
     "metadata": {},
     "output_type": "display_data"
    }
   ],
   "source": [
    "# The near-linear clustering identifies a strong positive correlatiion\n",
    "# Suggests there are no projects that are safe at 95% but risky at 99%, both would have simular risk portfolios\n",
    "# One project at the top right has a very large potential variance in both cases\n",
    "sns.scatterplot(x=var_df[\"VaR_95\"], y=var_df[\"VaR_99\"])\n",
    "plt.title(\"95% vs 99% VaR for Projects\")\n",
    "plt.xlabel(\"VaR at 95%\")\n",
    "plt.ylabel(\"VaR at 99%\")\n",
    "plt.show()"
   ]
  },
  {
   "cell_type": "code",
   "execution_count": 50,
   "id": "0130c712-ce29-4546-baa0-b68a4b978216",
   "metadata": {},
   "outputs": [
    {
     "data": {
      "image/png": "[encoded data removed]",
      "text/plain": [
       "<Figure size 640x480 with 1 Axes>"
      ]
     },
     "metadata": {},
     "output_type": "display_data"
    }
   ],
   "source": [
    "# Most proejcts showed a simular VaR range around -1.25, but at least 5 projects are identfiied as high risk due to the significant deviation from the typical value\n",
    "# These deviations can represent uncertanty or volatility and shoudl be futher reviewed \n",
    "sns.lineplot(data=var_df, x=\"ProjectID\", y=\"VaR_95\", label=\"VaR 95%\")\n",
    "sns.lineplot(data=var_df, x=\"ProjectID\", y=\"VaR_99\", label=\"VaR 99%\")\n",
    "plt.xticks(rotation=45)\n",
    "plt.title(\"Monte Carlo VaR by Project\")\n",
    "plt.legend()\n",
    "plt.show()"
   ]
  },
  {
   "cell_type": "markdown",
   "id": "bc9b6cd1-d547-4250-a004-9e35fafcd68a",
   "metadata": {},
   "source": [
    "# Findings\n",
    "#### Distribution of Project-Level VaR (Boxplot)\n",
    "\n",
    "Interpretation:\n",
    "\n",
    "    The distributions of VaR at 95% and 99% are broadly similar, both centered around a negative variance (≈ –1.25M).\n",
    "\n",
    "    Both tails contain outliers, showing that some projects have much larger downside risk exposure than the majority.\n",
    "\n",
    "    The negative median suggests most projects are expected to face unfavorable budget variances (losses) at both confidence levels.\n",
    "\n",
    "Finding:\n",
    "\n",
    "    Most projects carry comparable risk exposure, but a subset have extreme downside potential that warrants closer monitoring.\n",
    "\n",
    "    Projects in the tail risk zone could drive major budget overruns if not controlled.\n",
    "\n",
    "\n",
    "\n",
    "####  95% vs 99% VaR for Projects (Scatterplot)\n",
    "\n",
    "Interpretation:\n",
    "\n",
    "    There is a strong positive correlation between 95% and 99% VaR. Projects that are risky at 95% are consistently risky at 99%.\n",
    "\n",
    "    No projects are \"safe\" at 95% but risky at 99%, which indicates consistent risk profiles across confidence levels.\n",
    "\n",
    "    A few projects deviate significantly from the cluster, showing greater sensitivity to tail risk.\n",
    "\n",
    "Finding:\n",
    "\n",
    "    Risk exposure scales consistently with stricter confidence levels, making the risk forecasts reliable.\n",
    "\n",
    "    Outliers with large gaps between 95% and 99% VaR highlight projects that could experience volatility under stress scenarios — these should be flagged for additional scenario analysis.\n",
    "\n",
    "####  Monte Carlo VaR by Project (Line Plot across ProjectIDs)\n",
    "\n",
    "Interpretation:\n",
    "\n",
    "    Most projects hover around the same VaR level (≈ –1.25M), confirming that baseline downside risk is similar across the portfolio.\n",
    "\n",
    "    At least 5–6 projects show extreme deviations (sharp dips or spikes), reflecting higher uncertainty or unique risk drivers.\n",
    "\n",
    "    The gap between VaR 95% and VaR 99% is relatively small for most projects, but widens for high-risk ones, showing greater exposure to tail risk.\n",
    "\n",
    "Finding:\n",
    "\n",
    "    Portfolio-wide risk is relatively stable, but a minority of projects are disproportionately risky and could dominate overall budget uncertainty.\n",
    "\n",
    "    These projects should be prioritized for risk mitigation, cost contingency allocation, and management oversight.\n",
    "\n",
    "### Overall Insights\n",
    "\n",
    "    Baseline downside risk is consistent across most projects (≈ –1.25M), which aids in stable financial forecasting.\n",
    "\n",
    "    Outlier projects exhibit extreme tail risk that could destabilize portfolio budgets — they should be subject to tighter cost controls.\n",
    "\n",
    "    Consistency across 95% and 99% VaR supports confidence in the modeling approach, though the widening gap in risky projects underscores the need for stress testing.\n",
    "\n",
    "    This analysis allows management to target risk management efforts efficiently, focusing on the handful of projects driving outsized downside exposure.\n",
    "significant in both models."
   ]
  },
  {
   "cell_type": "markdown",
   "id": "4ab6d39e-93f7-41e5-9ffd-8e56a13ef57c",
   "metadata": {},
   "source": [
    "# Next Steps / Recommendations\n",
    "#### Deep Dive on Extreme Projects\n",
    "\n",
    "    Cluster or segment analysis: Identify whether high-risk projects share common features (size, duration, contractor, funding source, etc.).\n",
    "\n",
    "    Scenario stress testing: Run project-specific simulations to see how shocks (cost overruns, delays, supply chain risk) impact the VaR distribution.\n",
    "\n",
    "    Qualitative review: Cross-check whether outlier projects have known management, technical, or external risk factors.\n",
    "\n",
    "#### Improve Model Robustness\n",
    "\n",
    "Address non-normality & heavy tails:\n",
    "\n",
    "    Your diagnostics (Omnibus, JB, skew, kurtosis) suggest non-normal residuals and fat tails.\n",
    "\n",
    "    Consider models that better capture variance clustering and tails (e.g., GARCH-type, quantile regression, or heavy-tailed distributions like Student-t).\n",
    "\n",
    "Check multicollinearity: The high Condition Number (7.36e+21) signals severe multicollinearity. You might:\n",
    "\n",
    "    Standardize inputs,\n",
    "\n",
    "    Use PCA or dimensionality reduction, or\n",
    "\n",
    "    Apply regularization (Ridge/Lasso).\n",
    "\n",
    "Improve error structure: If residual autocorrelation exists (Durbin-Watson is near 2, so not terrible but worth checking lags), consider time-series models if data are sequential.\n",
    "\n",
    "#### Portfolio-Level Risk Management\n",
    "\n",
    "Contingency allocation: Use the VaR results to allocate contingency budgets dynamically (heavier buffers for outlier projects).\n",
    "\n",
    "Diversification analysis: Assess whether combining projects offsets risk or whether risks are correlated (i.e., portfolio VaR vs. sum of individual VaRs).\n",
    "\n",
    "Monitoring framework: Establish periodic re-calculation of VaR as project forecasts are updated (rolling risk monitoring).\n",
    "\n",
    "#### Model Validation & Communication\n",
    "\n",
    "Backtesting VaR: Compare predicted VaR against realized cost overruns to evaluate calibration.\n",
    "\n",
    "Sensitivity analysis: Show how changes in input assumptions shift VaR estimates (important for stakeholder trust).\n",
    "\n",
    "Stakeholder reporting: Summarize risks not just with numbers but with heatmaps or dashboards highlighting “high-risk” projects."
   ]
  },
  {
   "cell_type": "code",
   "execution_count": null,
   "id": "4c50412a-ae1e-4aa4-9ac7-1a41a350872c",
   "metadata": {},
   "outputs": [],
   "source": []
  }
 ],
 "metadata": {
  "kernelspec": {
   "display_name": "Python 3 (ipykernel)",
   "language": "python",
   "name": "python3"
  },
  "language_info": {
   "codemirror_mode": {
    "name": "ipython",
    "version": 3
   },
   "file_extension": ".py",
   "mimetype": "text/x-python",
   "name": "python",
   "nbconvert_exporter": "python",
   "pygments_lexer": "ipython3",
   "version": "3.12.4"
  }
 },
 "nbformat": 4,
 "nbformat_minor": 5
}
